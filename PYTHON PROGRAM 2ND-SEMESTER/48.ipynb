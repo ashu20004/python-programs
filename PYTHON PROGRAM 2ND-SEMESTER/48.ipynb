{
 "cells": [
  {
   "cell_type": "code",
   "execution_count": 1,
   "metadata": {},
   "outputs": [
    {
     "name": "stdout",
     "output_type": "stream",
     "text": [
      "Missing Values Count:\n",
      "Column1    1\n",
      "Column2    2\n",
      "Column3    0\n",
      "dtype: int64\n"
     ]
    }
   ],
   "source": [
    "# Write a program to count number of missing values in each column.\n",
    "\n",
    "import pandas as pd\n",
    "\n",
    "\n",
    "data = {\n",
    "    'Column1': [1, 2, None, 4, 5],\n",
    "    'Column2': [None, 2, 3, None, 5],\n",
    "    'Column3': [1, 2, 3, 4, 5]\n",
    "}\n",
    "df = pd.DataFrame(data)\n",
    "\n",
    "\n",
    "missing_values_count = df.isnull().sum()\n",
    "\n",
    "\n",
    "print(\"Missing Values Count:\")\n",
    "print(missing_values_count)\n"
   ]
  }
 ],
 "metadata": {
  "kernelspec": {
   "display_name": "base",
   "language": "python",
   "name": "python3"
  },
  "language_info": {
   "codemirror_mode": {
    "name": "ipython",
    "version": 3
   },
   "file_extension": ".py",
   "mimetype": "text/x-python",
   "name": "python",
   "nbconvert_exporter": "python",
   "pygments_lexer": "ipython3",
   "version": "3.10.9"
  },
  "orig_nbformat": 4
 },
 "nbformat": 4,
 "nbformat_minor": 2
}
