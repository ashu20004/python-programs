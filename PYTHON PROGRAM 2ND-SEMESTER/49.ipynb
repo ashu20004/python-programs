{
 "cells": [
  {
   "cell_type": "code",
   "execution_count": 3,
   "metadata": {},
   "outputs": [
    {
     "name": "stdout",
     "output_type": "stream",
     "text": [
      "DataFrame after replacing missing values:\n",
      "   Column1   Column2  Column3\n",
      "0      1.0  3.333333        1\n",
      "1      2.0  2.000000        2\n",
      "2      3.0  3.000000        3\n",
      "3      4.0  3.333333        4\n",
      "4      5.0  5.000000        5\n"
     ]
    }
   ],
   "source": [
    "# Write a program to replace missing values in a column of a dataframe by the\n",
    "# mean value of that column.\n",
    "\n",
    "import pandas as pd\n",
    "import numpy as np\n",
    "\n",
    "data = {\n",
    "    'Column1': [1, 2, np.nan, 4, 5],\n",
    "    'Column2': [np.nan, 2, 3, np.nan, 5],\n",
    "    'Column3': [1, 2, 3, 4, 5]\n",
    "}\n",
    "df = pd.DataFrame(data)\n",
    "\n",
    "mean_value1 = df['Column1'].mean()\n",
    "mean_value2 = df['Column2'].mean()\n",
    "mean_value3 = df['Column3'].mean()\n",
    "\n",
    "df['Column1'].fillna(mean_value1, inplace=True)\n",
    "df['Column2'].fillna(mean_value2, inplace=True)\n",
    "df['Column3'].fillna(mean_value3, inplace=True)\n",
    "\n",
    "\n",
    "print(\"DataFrame after replacing missing values:\")\n",
    "print(df)\n"
   ]
  }
 ],
 "metadata": {
  "kernelspec": {
   "display_name": "base",
   "language": "python",
   "name": "python3"
  },
  "language_info": {
   "codemirror_mode": {
    "name": "ipython",
    "version": 3
   },
   "file_extension": ".py",
   "mimetype": "text/x-python",
   "name": "python",
   "nbconvert_exporter": "python",
   "pygments_lexer": "ipython3",
   "version": "3.10.9"
  },
  "orig_nbformat": 4
 },
 "nbformat": 4,
 "nbformat_minor": 2
}
