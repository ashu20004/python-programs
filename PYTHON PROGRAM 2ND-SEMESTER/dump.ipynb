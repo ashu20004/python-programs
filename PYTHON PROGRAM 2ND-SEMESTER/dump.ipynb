{
 "cells": [
  {
   "cell_type": "code",
   "execution_count": 1,
   "metadata": {},
   "outputs": [
    {
     "name": "stdout",
     "output_type": "stream",
     "text": [
      "Series from a list:\n",
      "0    10\n",
      "1    20\n",
      "2    30\n",
      "3    40\n",
      "4    50\n",
      "dtype: int64\n",
      "\n",
      "Series from a NumPy array:\n",
      "0    1.5\n",
      "1    2.5\n",
      "2    3.5\n",
      "3    4.5\n",
      "4    5.5\n",
      "dtype: float64\n",
      "\n",
      "Series from a dictionary:\n",
      "A    100\n",
      "B    200\n",
      "C    300\n",
      "D    400\n",
      "E    500\n",
      "dtype: int64\n"
     ]
    }
   ],
   "source": [
    "# Write a Program to create a series from a list, numpy array and dict\n",
    "\n",
    "import pandas as pd\n",
    "import numpy as np\n",
    "\n",
    "\n",
    "list_data = [10, 20, 30, 40, 50]\n",
    "series_from_list = pd.Series(list_data)\n",
    "print(\"Series from a list:\")\n",
    "print(series_from_list)\n",
    "\n",
    "array_data = np.array([1.5, 2.5, 3.5, 4.5, 5.5])\n",
    "series_from_array = pd.Series(array_data)\n",
    "print(\"\\nSeries from a NumPy array:\")\n",
    "print(series_from_array)\n",
    "\n",
    "dict_data = {'A': 100, 'B': 200, 'C': 300, 'D': 400, 'E': 500}\n",
    "series_from_dict = pd.Series(dict_data)\n",
    "print(\"\\nSeries from a dictionary:\")\n",
    "print(series_from_dict)\n",
    "\n"
   ]
  }
 ],
 "metadata": {
  "kernelspec": {
   "display_name": "base",
   "language": "python",
   "name": "python3"
  },
  "language_info": {
   "codemirror_mode": {
    "name": "ipython",
    "version": 3
   },
   "file_extension": ".py",
   "mimetype": "text/x-python",
   "name": "python",
   "nbconvert_exporter": "python",
   "pygments_lexer": "ipython3",
   "version": "3.10.9"
  },
  "orig_nbformat": 4
 },
 "nbformat": 4,
 "nbformat_minor": 2
}
