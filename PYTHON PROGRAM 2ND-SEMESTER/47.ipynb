{
 "cells": [
  {
   "cell_type": "code",
   "execution_count": 2,
   "metadata": {},
   "outputs": [
    {
     "name": "stdout",
     "output_type": "stream",
     "text": [
      "DataFrame:\n",
      "   0  1  2  3\n",
      "0  2  5  8  7\n",
      "1  1  8  3  5\n",
      "2  2  4  4  6\n"
     ]
    }
   ],
   "source": [
    "# Write a Program to convert a numpy array to a dataframe of given shape.\n",
    "\n",
    "\n",
    "import pandas as pd\n",
    "import numpy as np\n",
    "\n",
    "rows = 3\n",
    "columns = 4\n",
    "\n",
    "np_array = np.random.randint(low=0, high=10, size=(rows, columns))\n",
    "\n",
    "df = pd.DataFrame(np_array)\n",
    "print(\"DataFrame:\")\n",
    "print(df)\n"
   ]
  }
 ],
 "metadata": {
  "kernelspec": {
   "display_name": "base",
   "language": "python",
   "name": "python3"
  },
  "language_info": {
   "codemirror_mode": {
    "name": "ipython",
    "version": 3
   },
   "file_extension": ".py",
   "mimetype": "text/x-python",
   "name": "python",
   "nbconvert_exporter": "python",
   "pygments_lexer": "ipython3",
   "version": "3.10.9"
  },
  "orig_nbformat": 4
 },
 "nbformat": 4,
 "nbformat_minor": 2
}
