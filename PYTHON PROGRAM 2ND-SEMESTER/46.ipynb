{
 "cells": [
  {
   "cell_type": "code",
   "execution_count": null,
   "metadata": {},
   "outputs": [],
   "source": [
    "# Write a Program to create a series from a list, numpy array and dict\n",
    "\n",
    "import pandas as pd\n",
    "import numpy as np\n",
    "\n",
    "\n",
    "list_data = [10, 20, 30, 40, 50]\n",
    "series_from_list = pd.Series(list_data)\n",
    "print(\"Series from a list:\")\n",
    "print(series_from_list)\n",
    "\n",
    "array_data = np.array([1.5, 2.5, 3.5, 4.5, 5.5])\n",
    "series_from_array = pd.Series(array_data)\n",
    "print(\"\\nSeries from a NumPy array:\")\n",
    "print(series_from_array)\n",
    "\n",
    "dict_data = {'A': 100, 'B': 200, 'C': 300, 'D': 400, 'E': 500}\n",
    "series_from_dict = pd.Series(dict_data)\n",
    "print(\"\\nSeries from a dictionary:\")\n",
    "print(series_from_dict)\n",
    "\n"
   ]
  }
 ],
 "metadata": {
  "language_info": {
   "name": "python"
  },
  "orig_nbformat": 4
 },
 "nbformat": 4,
 "nbformat_minor": 2
}
